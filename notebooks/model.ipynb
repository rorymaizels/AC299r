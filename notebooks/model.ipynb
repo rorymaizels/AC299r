{
 "cells": [
  {
   "cell_type": "markdown",
   "metadata": {},
   "source": [
    "## Contents\n",
    "\n",
    "- [Abstract](index.md)\n",
    "- [Project Motivation](motivation.md)\n",
    "- [Biological & Theoretical Background](background.html)\n",
    "- [Model Structure](structure.md)\n",
    "- [Usage](usage.md)\n",
    "- [First Steps: Pyro](pyro.html)\n",
    "- [Model Reconstruction](model.html)\n",
    "- [Performance Comparison](performance.html)\n",
    "- [Conclusions](conclusions.md)"
   ]
  },
  {
   "cell_type": "markdown",
   "metadata": {},
   "source": [
    "# Model Reconstruction\n",
    "\n",
    "The Python files containing the germane code can be found in models.\n",
    "\n"
   ]
  }
 ],
 "metadata": {
  "kernelspec": {
   "display_name": "Python 3",
   "language": "python",
   "name": "python3"
  },
  "language_info": {
   "codemirror_mode": {
    "name": "ipython",
    "version": 3
   },
   "file_extension": ".py",
   "mimetype": "text/x-python",
   "name": "python",
   "nbconvert_exporter": "python",
   "pygments_lexer": "ipython3",
   "version": "3.6.8"
  }
 },
 "nbformat": 4,
 "nbformat_minor": 2
}
