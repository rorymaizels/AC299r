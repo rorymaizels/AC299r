{
 "cells": [
  {
   "cell_type": "markdown",
   "metadata": {},
   "source": [
    "## Contents\n",
    "\n",
    "- [Abstract](index.html)\n",
    "- [Project Motivation](motivation.html)\n",
    "- [Biological & Theoretical Background](background.html)\n",
    "- [Model Structure](structure.html)\n",
    "- [Usage](usage.html)\n",
    "- [First Steps: Pyro](pyro.html)\n",
    "- [Model Reconstruction](model.html)\n",
    "- [Performance Comparison](performance.html)\n",
    "- [Conclusions](conclusions.html)"
   ]
  },
  {
   "cell_type": "markdown",
   "metadata": {},
   "source": [
    "# First Steps: Pyro\n",
    "\n",
    "The first steps in reconstructing this model was to build a simple variational autoencoder that concerned itself solely with reconstruction loss, from which an actual model could be built.\n",
    "\n",
    "For this, I experimented with PyTorch's probabilistic library, [pyro](http://pyro.ai/). This library contains pre-built modules for carrying out stochastic variational inference, and even has a [detailed instructional guide](http://pyro.ai/examples/vae.html) to building VAEs.\n",
    "\n",
    "This library works by defining a model and a guide function and performing stochastic variational inference using to infer their relationship. More details can be found on [their website](http://pyro.ai/examples/svi_part_i.html).\n",
    "\n",
    "Below is a walkthrough of the simple example model that was constructed to test variational autoencoders in this situation.\n",
    "\n",
    "The following code is found in `pyro_model/pyro_vae.py`"
   ]
  },
  {
   "cell_type": "code",
   "execution_count": 2,
   "metadata": {},
   "outputs": [],
   "source": [
    "import pt_helper # helper module for loading data\n",
    "\n",
    "import torch\n",
    "import torch.nn as nn\n",
    "import numpy as np\n",
    "import pyro\n",
    "from torch.utils.data import DataLoader\n",
    "import pyro.distributions as dist\n",
    "\n",
    "# set up\n",
    "pyro.enable_validation(True)\n",
    "pyro.set_rng_seed(0)"
   ]
  },
  {
   "cell_type": "markdown",
   "metadata": {},
   "source": [
    "First we define the decoder class. By inhering the nn.Module class, the different model classes defined can be connected."
   ]
  },
  {
   "cell_type": "code",
   "execution_count": null,
   "metadata": {},
   "outputs": [],
   "source": [
    "class Decoder(nn.Module):\n",
    "    \"\"\"\n",
    "    takes latent variables z, passes through two hidden layers and returns reconstructed x.\n",
    "    \"\"\"\n",
    "    def __init__(self, alph_size,seq_len, z_dim=30, hidden_architecture=[100,500]):\n",
    "        super(Decoder, self).__init__()\n",
    "        # setup the two linear transformations used\n",
    "        self.hidden1 = nn.Linear(z_dim,hidden_architecture[0])\n",
    "        self.hidden2 = nn.Linear(hidden_architecture[0],hidden_architecture[1])\n",
    "        self.final = nn.Linear(hidden_architecture[1],(alph_size*seq_len))\n",
    "        self.relu = nn.ReLU()\n",
    "        self.sigmoid = nn.Sigmoid()\n",
    "\n",
    "    def forward(self, z):\n",
    "        # define the forward computation on the latent z\n",
    "        hidden1 = self.relu(self.hidden1(z))\n",
    "        hidden2 = self.sigmoid(self.hidden2(hidden1))\n",
    "        output = self.sigmoid(self.final(hidden2))\n",
    "        return output"
   ]
  },
  {
   "cell_type": "markdown",
   "metadata": {},
   "source": [
    "Next, we define the encoder class"
   ]
  },
  {
   "cell_type": "code",
   "execution_count": null,
   "metadata": {},
   "outputs": [],
   "source": [
    "class Encoder(nn.Module):\n",
    "    \"\"\"\n",
    "    Takes in data, returns mu and sigma for variational approximation of latent variable.\n",
    "    \"\"\"\n",
    "    def __init__(self,alph_size,seq_len, z_dim=30, hidden_architecture=[1500,1500]):\n",
    "        super(Encoder, self).__init__()\n",
    "        self.hidden1 = nn.Linear((alph_size*seq_len),hidden_architecture[0])\n",
    "        self.hidden2 = nn.Linear(hidden_architecture[0],hidden_architecture[1])\n",
    "        self.final1 = nn.Linear(hidden_architecture[1],z_dim)\n",
    "        self.final2 = nn.Linear(hidden_architecture[1],z_dim)\n",
    "        self.relu = nn.ReLU()\n",
    "        self.alph_size = alph_size\n",
    "        self.seq_len = seq_len\n",
    "\n",
    "    def forward(self, x):\n",
    "        x = x.reshape(-1,self.seq_len*self.alph_size)\n",
    "        hidden1 = self.relu(self.hidden1(x))\n",
    "        hidden2 = self.relu(self.hidden2(hidden1))\n",
    "        z_loc = self.final1(hidden2)\n",
    "        z_scale = torch.exp(self.final2(hidden2))\n",
    "        return z_loc, z_scale"
   ]
  },
  {
   "cell_type": "markdown",
   "metadata": {},
   "source": [
    "With these constructed, we build the full model class, which calls these sub-classes, and defines the model/guide format used for pyro programming. The model serves as decoder, whilst the guide as the encoder."
   ]
  },
  {
   "cell_type": "code",
   "execution_count": null,
   "metadata": {},
   "outputs": [],
   "source": [
    "class VAE(nn.Module):\n",
    "    def __init__(self, alph_size, seq_len, z_dim=30, encoder_architecture=[1500, 1500],\n",
    "                 decoder_architecture=[100, 500], use_cuda=False):\n",
    "        \"\"\"\n",
    "        Variational Autoencoder that defines the pyro structure of model and guide\n",
    "\n",
    "        :param alph_size: size of alphabet\n",
    "        :param seq_len: length of sequence\n",
    "        :param z_dim: dimensions of latent space\n",
    "        :param encoder_architecture: nodes per layer for encoder\n",
    "        :param decoder_architecture: nodes per layer for decoder\n",
    "        :param use_cuda: GPU command\n",
    "        \"\"\"\n",
    "        super(VAE, self).__init__()\n",
    "        # create the encoder and decoder networks\n",
    "        # call classes shared by nn.Module\n",
    "        self.encoder = Encoder(alph_size,seq_len,z_dim, encoder_architecture)\n",
    "        self.decoder = Decoder(alph_size,seq_len,z_dim, decoder_architecture)\n",
    "        if use_cuda:\n",
    "            self.cuda()\n",
    "        # parameters required in functions\n",
    "        self.use_cuda = use_cuda\n",
    "        self.z_dim = z_dim\n",
    "        self.alph_size = alph_size\n",
    "        self.seq_len = seq_len\n",
    "\n",
    "    # define the model for conditional distribution p(x|z)p(z)\n",
    "    def model(self, x):\n",
    "        pyro.module('decoder', self.decoder) # adds decoder as a pyro module\n",
    "        with pyro.plate('data', x.shape[0]):\n",
    "            z_loc = x.new_zeros(torch.Size((x.shape[0], self.z_dim)))\n",
    "            z_scale = x.new_ones(torch.Size((x.shape[0], self.z_dim)))\n",
    "            z = pyro.sample('latent', dist.Normal(z_loc, z_scale).to_event(1))\n",
    "            output = self.decoder.forward(z)\n",
    "            # score against actual images\n",
    "            pyro.sample('obs', dist.Bernoulli(output).to_event(1),\n",
    "                        obs=x.reshape(-1, self.alph_size*self.seq_len))\n",
    "\n",
    "    # define the guide (i.e. variational distribution) q(z|x)\n",
    "    def guide(self, x):\n",
    "        pyro.module('encoder', self.encoder)\n",
    "        with pyro.plate('data', x.shape[0]):\n",
    "            z_loc, z_scale = self.encoder.forward(x)\n",
    "            # sample the latent code z\n",
    "            pyro.sample(\"latent\", dist.Normal(z_loc, z_scale).to_event(1))\n",
    "\n",
    "    def reconstruct_output(self, x):\n",
    "        z_loc, z_scale = self.encoder(x)\n",
    "        z = dist.Normal(z_loc, z_scale).sample()\n",
    "        # decode the image (note not sampled; this is non-bayesian)\n",
    "        output = self.decoder(z)\n",
    "        return output"
   ]
  },
  {
   "cell_type": "markdown",
   "metadata": {},
   "source": [
    "To run this model, we also need to define a function for loaded and preparing data and a function for training each epoch:"
   ]
  },
  {
   "cell_type": "code",
   "execution_count": null,
   "metadata": {},
   "outputs": [],
   "source": [
    "def loader_function(data, bs, nw, pm):\n",
    "    \"\"\"\n",
    "    :param data: dataset specification for datahelper\n",
    "    :param bs: batch size\n",
    "    :param nw: number of workers for cuda\n",
    "    :param pm: pin memory for GPU\n",
    "    :return: a pytorch dataloader, alphabet and sequence size from datahelper\n",
    "    \"\"\"\n",
    "    datahelper = pt_helper.DataHelper(dataset=data,calc_weights=True)\n",
    "    x_train = datahelper.x_train.astype(np.float32)\n",
    "    alph_size = datahelper.alphabet_size\n",
    "    seq_len = datahelper.seq_len\n",
    "    data_loader = DataLoader(x_train,batch_size=bs,\n",
    "                             shuffle=True, num_workers=nw, pin_memory=pm)\n",
    "    return data_loader, alph_size, seq_len\n",
    "\n",
    "\n",
    "def train(svi, loader, use_cuda=False):\n",
    "    \"\"\"\n",
    "    per epoch training function.\n",
    "\n",
    "    :param svi: pyro svi module\n",
    "    :param loader: data loader from loader_function\n",
    "    :param use_cuda: GPU command\n",
    "    :return: loss for that epoch\n",
    "    \"\"\"\n",
    "    epoch_loss = 0.\n",
    "    for x in loader:\n",
    "        # for each batch, step with the SVI module.\n",
    "        if use_cuda:\n",
    "            x = x.cuda()\n",
    "        epoch_loss += svi.step(x)\n",
    "\n",
    "    normalizer_train = len(loader.dataset)\n",
    "    total_epoch_loss_train = epoch_loss / normalizer_train\n",
    "    return total_epoch_loss_train"
   ]
  },
  {
   "cell_type": "markdown",
   "metadata": {},
   "source": [
    "finally, we define a script to run the model with defined parameters (found in `pyro_model/run_pyrovae.py`):"
   ]
  },
  {
   "cell_type": "code",
   "execution_count": null,
   "metadata": {},
   "outputs": [],
   "source": [
    "# use following command to access files in another directory\n",
    "# sys.path.insert(0, \"path\")\n",
    "import pyro_vae\n",
    "import torch\n",
    "import pyro\n",
    "from pyro.infer import SVI, Trace_ELBO # svi module and ELBO loss module\n",
    "from pyro.optim import Adam\n",
    "\n",
    "# set up the parameters for the data, model and training\n",
    "\n",
    "data_params = {\n",
    "    \"dataset\"           :   \"BLAT_ECOLX\"\n",
    "    }\n",
    "\n",
    "# commented out parameters are for unimplemented components\n",
    "model_params = {\n",
    "    \"bs\"                :   100,\n",
    "    \"encode_dim_zero\"   :   1500,\n",
    "    \"encode_dim_one\"    :   1500,\n",
    "    \"decode_dim_zero\"   :   100,\n",
    "    \"decode_dim_one\"    :   500,\n",
    "    \"n_latent\"          :   30,\n",
    "    \"learning_rate\"     :   1.0e-3,\n",
    "    # \"logit_p\"           :   0.001,\n",
    "    # \"sparsity\"          :   \"logit\",\n",
    "    # \"final_decode_nonlin\":  \"sigmoid\",\n",
    "    # \"final_pwm_scale\"   :   True,\n",
    "    # \"n_pat\"             :   4,\n",
    "    \"r_seed\"            :   12345,\n",
    "    # \"conv_pat\"          :   True,\n",
    "    # \"d_c_size\"          :   40\n",
    "    }\n",
    "\n",
    "train_params = {\n",
    "    \"no_workers\"        :   8,\n",
    "    \"num_updates\"       :   300000,\n",
    "    # \"save_progress\"     :   True,\n",
    "    # \"verbose\"           :   True,\n",
    "    # \"save_parameters\"   :   False,\n",
    "    }\n",
    "\n",
    "# speeds up training\n",
    "cuda = torch.cuda.is_available()\n",
    "torch.backends.cudnn.benchmark = True\n",
    "\n",
    "pyro.enable_validation(True)\n",
    "pyro.set_rng_seed(model_params['r_seed'])\n",
    "pyro.clear_param_store()\n",
    "\n",
    "enc_arch = [model_params['encode_dim_zero'],model_params['encode_dim_one']]\n",
    "dec_arch = [model_params['decode_dim_zero'],model_params['decode_dim_one']]\n",
    "\n",
    "# creat data params\n",
    "loader, alph, seq = pyro_vae.loader_function(data=data_params[\"dataset\"],\n",
    "                                            bs=model_params['bs'],\n",
    "                                            nw=train_params['no_workers'],\n",
    "                                             pm=cuda)\n",
    "\n",
    "# construct model\n",
    "vae = pyro_vae.VAE(alph_size=alph,seq_len=seq,z_dim=model_params['n_latent'],\n",
    "                   encoder_architecture=enc_arch,decoder_architecture=dec_arch,use_cuda=cuda)\n",
    "\n",
    "# define optimizer\n",
    "optimizer = Adam({\"lr\": model_params['learning_rate']})\n",
    "\n",
    "# construct stochastic variational inference module\n",
    "svi = SVI(vae.model, vae.guide, optimizer, loss=Trace_ELBO())\n",
    "\n",
    "NUM_EPOCHS = train_params['num_updates']\n",
    "PRINT_FREQUENCY = 100\n",
    "\n",
    "train_elbo = []\n",
    "# training loop\n",
    "for epoch in range(NUM_EPOCHS):\n",
    "    total_epoch_loss_train = pyro_vae.train(svi, loader, use_cuda=cuda)\n",
    "    train_elbo.append(-total_epoch_loss_train)\n",
    "    if epoch % PRINT_FREQUENCY == 0:\n",
    "        print(\"[epoch %03d]  average training loss: %.4f\" % (epoch, total_epoch_loss_train))\n",
    "\n",
    "#torch.save(vae.state_dict(), './test_model.pt')"
   ]
  },
  {
   "cell_type": "code",
   "execution_count": 3,
   "metadata": {},
   "outputs": [],
   "source": [
    "import matplotlib.pyplot as plt\n",
    "%matplotlib inline"
   ]
  },
  {
   "cell_type": "code",
   "execution_count": 2,
   "metadata": {},
   "outputs": [
    {
     "data": {
      "image/png": "[encoded data removed]",
      "text/plain": [
       "<matplotlib.figure.Figure at 0x110928390>"
      ]
     },
     "metadata": {},
     "output_type": "display_data"
    }
   ],
   "source": [
    "path = \"../code/pyro_model/pyro.out\"\n",
    "text_file = open(path, \"r\")\n",
    "lines = text_file.readlines()[4:-43]\n",
    "epochs = [int(line.replace(\"]\",\"\").replace(\"\\n\",\"\").split(\" \")[1]) for line in lines]\n",
    "loss = [float(line.replace(\"]\",\"\").replace(\"\\n\",\"\").split(\" \")[6]) for line in lines]\n",
    "\n",
    "fig = plt.figure(figsize=(15,5))\n",
    "ax = fig.add_subplot(1, 2, 2)\n",
    "ax.plot(epochs,loss)\n",
    "ax.set_title(\"Total Loss\")\n",
    "ax.set_yscale('log')\n",
    "ax.set_xlabel(\"Epoch\")\n",
    "ax.set_ylabel(\"Loss\")\n",
    "ax = fig.add_subplot(1, 2, 1)\n",
    "ax.plot(epochs[:200],loss[:200])\n",
    "ax.set_title(\"Early Loss\")\n",
    "ax.set_xlabel(\"Epoch\")\n",
    "ax.set_ylabel(\"Loss\")\n",
    "plt.show()"
   ]
  },
  {
   "cell_type": "markdown",
   "metadata": {},
   "source": [
    "We find that the model successfully trains and loss decreases to a value in the same rough range as the original model - however, after ~30,000 epochs loss explodes and the model fails.\n",
    "\n",
    "Exactly why is not clear - likely, without any of the added features of the original model that improve performance, the model may not be as stable. With VAEs, instability can often arise from large KL divergence distances for the latent variables. One solution for this is to use a warm up scaling that only factors in KL divergence loss after a number of epochs, essentially allowing the model to learn the data first before factoring in the KLD loss. This feature is implemented in the full model, but implementation with pyro does not appear simple.\n",
    "\n",
    "Moreover, because the SVI module and Trace_ELBO loss modules are black-box entities that offer little customisation, constructing this model served to make clear that pyro does not offer the flexibility required for this model. As such, subsequent endeavours sought to construct the model in PyTorch without additional libraries."
   ]
  }
 ],
 "metadata": {
  "kernelspec": {
   "display_name": "Python 3",
   "language": "python",
   "name": "python3"
  },
  "language_info": {
   "codemirror_mode": {
    "name": "ipython",
    "version": 3
   },
   "file_extension": ".py",
   "mimetype": "text/x-python",
   "name": "python",
   "nbconvert_exporter": "python",
   "pygments_lexer": "ipython3",
   "version": "3.6.8"
  }
 },
 "nbformat": 4,
 "nbformat_minor": 2
}
